{
  "nbformat": 4,
  "nbformat_minor": 5,
  "metadata": {
    "colab": {
      "name": "0_2d_Model_Training_RF.ipynb",
      "provenance": [],
      "collapsed_sections": [],
      "toc_visible": true
    },
    "kernelspec": {
      "display_name": "Python 3",
      "language": "python",
      "name": "python3"
    },
    "language_info": {
      "codemirror_mode": {
        "name": "ipython",
        "version": 3
      },
      "file_extension": ".py",
      "mimetype": "text/x-python",
      "name": "python",
      "nbconvert_exporter": "python",
      "pygments_lexer": "ipython3",
      "version": "3.8.5"
    }
  },
  "cells": [
    {
      "cell_type": "markdown",
      "metadata": {
        "id": "adc7d2b6"
      },
      "source": [
        "# Training Different Model"
      ],
      "id": "adc7d2b6"
    },
    {
      "cell_type": "code",
      "metadata": {
        "id": "ff982ff4"
      },
      "source": [
        "import os\n",
        "import numpy as np\n",
        "import matplotlib.pyplot as plt\n",
        "import seaborn as sns"
      ],
      "id": "ff982ff4",
      "execution_count": 1,
      "outputs": []
    },
    {
      "cell_type": "markdown",
      "metadata": {
        "id": "ff3b7a3d"
      },
      "source": [
        "### Github Fetch"
      ],
      "id": "ff3b7a3d"
    },
    {
      "cell_type": "code",
      "metadata": {
        "colab": {
          "base_uri": "https://localhost:8080/"
        },
        "id": "818b42f0",
        "outputId": "73fac68e-8104-4af5-ffe4-b5eb1c142122"
      },
      "source": [
        "!git clone https://github.com/utsavdarlami/sandstone_segmentation.git"
      ],
      "id": "818b42f0",
      "execution_count": 2,
      "outputs": [
        {
          "output_type": "stream",
          "text": [
            "Cloning into 'sandstone_segmentation'...\n",
            "remote: Enumerating objects: 268, done.\u001b[K\n",
            "remote: Counting objects: 100% (268/268), done.\u001b[K\n",
            "remote: Compressing objects: 100% (194/194), done.\u001b[K\n",
            "remote: Total 268 (delta 130), reused 190 (delta 64), pack-reused 0\u001b[K\n",
            "Receiving objects: 100% (268/268), 11.19 MiB | 27.54 MiB/s, done.\n",
            "Resolving deltas: 100% (130/130), done.\n"
          ],
          "name": "stdout"
        }
      ]
    },
    {
      "cell_type": "markdown",
      "metadata": {
        "id": "ccbabc4b"
      },
      "source": [
        "### Prepare the dataset"
      ],
      "id": "ccbabc4b"
    },
    {
      "cell_type": "code",
      "metadata": {
        "colab": {
          "base_uri": "https://localhost:8080/"
        },
        "id": "e5a6db65",
        "outputId": "c3be9923-6e7c-45b1-a730-18466298bd5a"
      },
      "source": [
        "!pwd"
      ],
      "id": "e5a6db65",
      "execution_count": 3,
      "outputs": [
        {
          "output_type": "stream",
          "text": [
            "/content\n"
          ],
          "name": "stdout"
        }
      ]
    },
    {
      "cell_type": "code",
      "metadata": {
        "colab": {
          "base_uri": "https://localhost:8080/"
        },
        "id": "10aaff6b",
        "outputId": "22a73c89-dd4c-49c1-a866-68478abf90fa"
      },
      "source": [
        "cd \"./sandstone_segmentation\""
      ],
      "id": "10aaff6b",
      "execution_count": 4,
      "outputs": [
        {
          "output_type": "stream",
          "text": [
            "/content/sandstone_segmentation\n"
          ],
          "name": "stdout"
        }
      ]
    },
    {
      "cell_type": "code",
      "metadata": {
        "colab": {
          "base_uri": "https://localhost:8080/"
        },
        "id": "355c1c6c",
        "outputId": "f625f2fd-771f-4edc-e4b7-2f5f6b071c1b"
      },
      "source": [
        "!pwd\n",
        "!ls"
      ],
      "id": "355c1c6c",
      "execution_count": 5,
      "outputs": [
        {
          "output_type": "stream",
          "text": [
            "/content/sandstone_segmentation\n",
            "data\t  models     README.org  requirements.txt  src\n",
            "Makefile  notebooks  reports\t results\n"
          ],
          "name": "stdout"
        }
      ]
    },
    {
      "cell_type": "code",
      "metadata": {
        "colab": {
          "base_uri": "https://localhost:8080/"
        },
        "id": "d18c3f7f",
        "outputId": "5efc59e9-d295-4aab-f336-2d54085aebc3"
      },
      "source": [
        "!make dataset n_images=1 # select number of images for processing "
      ],
      "id": "d18c3f7f",
      "execution_count": 7,
      "outputs": [
        {
          "output_type": "stream",
          "text": [
            "mkdir -p ./data/processed\n",
            "python ./src/prepare_dataset.py\t1\n",
            "Preparing Dataset with 1 images\n",
            "- Extracting the features from Sandstone_Versa0000.tif\n",
            "- Done Extracting the features from Sandstone_Versa0000.tif\n",
            "- Saving the dataframe as final_dataset.csv is ../data/processed/\n",
            "- Shape (1019904, 60)\n",
            "- Columns Index(['gabor_0', 'gabor_1', 'gabor_2', 'gabor_3', 'gabor_4', 'gabor_5',\n",
            "       'gabor_6', 'gabor_7', 'gabor_8', 'gabor_9', 'gabor_10', 'gabor_11',\n",
            "       'gabor_12', 'gabor_13', 'gabor_14', 'gabor_15', 'gabor_16', 'gabor_17',\n",
            "       'gabor_18', 'gabor_19', 'gabor_20', 'gabor_21', 'gabor_22', 'gabor_23',\n",
            "       'gabor_24', 'gabor_25', 'gabor_26', 'gabor_27', 'gabor_28', 'gabor_29',\n",
            "       'gabor_30', 'gabor_31', 'gabor_32', 'gabor_33', 'gabor_34', 'gabor_35',\n",
            "       'gabor_36', 'gabor_37', 'gabor_38', 'gabor_39', 'gabor_40', 'gabor_41',\n",
            "       'gabor_42', 'gabor_43', 'gabor_44', 'gabor_45', 'gabor_46', 'gabor_47',\n",
            "       'Original', 'Entropy', 'Gaussian3', 'Gaussian7', 'Sobel', 'Canny',\n",
            "       'Robert', 'Scharr', 'Prewitt', 'Median', 'Variance', 'Mask_label'],\n",
            "      dtype='object')\n",
            "- Done preparing the dataset\n"
          ],
          "name": "stdout"
        }
      ]
    },
    {
      "cell_type": "markdown",
      "metadata": {
        "id": "5ab96a8e"
      },
      "source": [
        "## Training begins"
      ],
      "id": "5ab96a8e"
    },
    {
      "cell_type": "code",
      "metadata": {
        "id": "275de8d5"
      },
      "source": [
        "import pandas as pd\n",
        "from sklearn.model_selection import train_test_split\n",
        "# %time\n",
        "import os"
      ],
      "id": "275de8d5",
      "execution_count": 8,
      "outputs": []
    },
    {
      "cell_type": "code",
      "metadata": {
        "colab": {
          "base_uri": "https://localhost:8080/",
          "height": 35
        },
        "id": "46cf0ad4",
        "outputId": "b52afa19-0478-45db-b512-e10b555822ef"
      },
      "source": [
        "dataset_path = \"./data/processed/final_dataset.csv\"\n",
        "dataset_path"
      ],
      "id": "46cf0ad4",
      "execution_count": 9,
      "outputs": [
        {
          "output_type": "execute_result",
          "data": {
            "application/vnd.google.colaboratory.intrinsic+json": {
              "type": "string"
            },
            "text/plain": [
              "'./data/processed/final_dataset.csv'"
            ]
          },
          "metadata": {
            "tags": []
          },
          "execution_count": 9
        }
      ]
    },
    {
      "cell_type": "code",
      "metadata": {
        "id": "UZKhMs_A-ppL"
      },
      "source": [
        "# del final_dataframe"
      ],
      "id": "UZKhMs_A-ppL",
      "execution_count": null,
      "outputs": []
    },
    {
      "cell_type": "code",
      "metadata": {
        "id": "27a5e5b2"
      },
      "source": [
        "final_dataframe = pd.read_csv(dataset_path)"
      ],
      "id": "27a5e5b2",
      "execution_count": 10,
      "outputs": []
    },
    {
      "cell_type": "code",
      "metadata": {
        "colab": {
          "base_uri": "https://localhost:8080/",
          "height": 226
        },
        "id": "201fd1c6",
        "outputId": "7b4a47ac-f35b-4eb5-9618-d4bad5f38984"
      },
      "source": [
        "final_dataframe.head()"
      ],
      "id": "201fd1c6",
      "execution_count": 11,
      "outputs": [
        {
          "output_type": "execute_result",
          "data": {
            "text/html": [
              "<div>\n",
              "<style scoped>\n",
              "    .dataframe tbody tr th:only-of-type {\n",
              "        vertical-align: middle;\n",
              "    }\n",
              "\n",
              "    .dataframe tbody tr th {\n",
              "        vertical-align: top;\n",
              "    }\n",
              "\n",
              "    .dataframe thead th {\n",
              "        text-align: right;\n",
              "    }\n",
              "</style>\n",
              "<table border=\"1\" class=\"dataframe\">\n",
              "  <thead>\n",
              "    <tr style=\"text-align: right;\">\n",
              "      <th></th>\n",
              "      <th>gabor_0</th>\n",
              "      <th>gabor_1</th>\n",
              "      <th>gabor_2</th>\n",
              "      <th>gabor_3</th>\n",
              "      <th>gabor_4</th>\n",
              "      <th>gabor_5</th>\n",
              "      <th>gabor_6</th>\n",
              "      <th>gabor_7</th>\n",
              "      <th>gabor_8</th>\n",
              "      <th>gabor_9</th>\n",
              "      <th>gabor_10</th>\n",
              "      <th>gabor_11</th>\n",
              "      <th>gabor_12</th>\n",
              "      <th>gabor_13</th>\n",
              "      <th>gabor_14</th>\n",
              "      <th>gabor_15</th>\n",
              "      <th>gabor_16</th>\n",
              "      <th>gabor_17</th>\n",
              "      <th>gabor_18</th>\n",
              "      <th>gabor_19</th>\n",
              "      <th>gabor_20</th>\n",
              "      <th>gabor_21</th>\n",
              "      <th>gabor_22</th>\n",
              "      <th>gabor_23</th>\n",
              "      <th>gabor_24</th>\n",
              "      <th>gabor_25</th>\n",
              "      <th>gabor_26</th>\n",
              "      <th>gabor_27</th>\n",
              "      <th>gabor_28</th>\n",
              "      <th>gabor_29</th>\n",
              "      <th>gabor_30</th>\n",
              "      <th>gabor_31</th>\n",
              "      <th>gabor_32</th>\n",
              "      <th>gabor_33</th>\n",
              "      <th>gabor_34</th>\n",
              "      <th>gabor_35</th>\n",
              "      <th>gabor_36</th>\n",
              "      <th>gabor_37</th>\n",
              "      <th>gabor_38</th>\n",
              "      <th>gabor_39</th>\n",
              "      <th>gabor_40</th>\n",
              "      <th>gabor_41</th>\n",
              "      <th>gabor_42</th>\n",
              "      <th>gabor_43</th>\n",
              "      <th>gabor_44</th>\n",
              "      <th>gabor_45</th>\n",
              "      <th>gabor_46</th>\n",
              "      <th>gabor_47</th>\n",
              "      <th>Original</th>\n",
              "      <th>Entropy</th>\n",
              "      <th>Gaussian3</th>\n",
              "      <th>Gaussian7</th>\n",
              "      <th>Sobel</th>\n",
              "      <th>Canny</th>\n",
              "      <th>Robert</th>\n",
              "      <th>Scharr</th>\n",
              "      <th>Prewitt</th>\n",
              "      <th>Median</th>\n",
              "      <th>Variance</th>\n",
              "      <th>Mask_label</th>\n",
              "    </tr>\n",
              "  </thead>\n",
              "  <tbody>\n",
              "    <tr>\n",
              "      <th>0</th>\n",
              "      <td>0</td>\n",
              "      <td>0</td>\n",
              "      <td>0</td>\n",
              "      <td>0</td>\n",
              "      <td>0</td>\n",
              "      <td>0</td>\n",
              "      <td>0</td>\n",
              "      <td>0</td>\n",
              "      <td>0</td>\n",
              "      <td>0</td>\n",
              "      <td>0</td>\n",
              "      <td>0</td>\n",
              "      <td>0</td>\n",
              "      <td>0</td>\n",
              "      <td>0</td>\n",
              "      <td>0</td>\n",
              "      <td>0</td>\n",
              "      <td>0</td>\n",
              "      <td>0</td>\n",
              "      <td>0</td>\n",
              "      <td>0</td>\n",
              "      <td>0</td>\n",
              "      <td>0</td>\n",
              "      <td>0</td>\n",
              "      <td>0</td>\n",
              "      <td>0</td>\n",
              "      <td>0</td>\n",
              "      <td>0</td>\n",
              "      <td>0</td>\n",
              "      <td>0</td>\n",
              "      <td>0</td>\n",
              "      <td>0</td>\n",
              "      <td>0</td>\n",
              "      <td>0</td>\n",
              "      <td>0</td>\n",
              "      <td>0</td>\n",
              "      <td>0</td>\n",
              "      <td>0</td>\n",
              "      <td>0</td>\n",
              "      <td>0</td>\n",
              "      <td>0</td>\n",
              "      <td>0</td>\n",
              "      <td>0</td>\n",
              "      <td>0</td>\n",
              "      <td>0</td>\n",
              "      <td>0</td>\n",
              "      <td>0</td>\n",
              "      <td>0</td>\n",
              "      <td>0</td>\n",
              "      <td>0.0</td>\n",
              "      <td>0</td>\n",
              "      <td>0</td>\n",
              "      <td>0.0</td>\n",
              "      <td>0</td>\n",
              "      <td>0.0</td>\n",
              "      <td>0.0</td>\n",
              "      <td>0.0</td>\n",
              "      <td>0</td>\n",
              "      <td>0</td>\n",
              "      <td>29</td>\n",
              "    </tr>\n",
              "    <tr>\n",
              "      <th>1</th>\n",
              "      <td>0</td>\n",
              "      <td>0</td>\n",
              "      <td>0</td>\n",
              "      <td>0</td>\n",
              "      <td>0</td>\n",
              "      <td>0</td>\n",
              "      <td>0</td>\n",
              "      <td>0</td>\n",
              "      <td>0</td>\n",
              "      <td>0</td>\n",
              "      <td>0</td>\n",
              "      <td>0</td>\n",
              "      <td>0</td>\n",
              "      <td>0</td>\n",
              "      <td>0</td>\n",
              "      <td>0</td>\n",
              "      <td>0</td>\n",
              "      <td>0</td>\n",
              "      <td>0</td>\n",
              "      <td>0</td>\n",
              "      <td>0</td>\n",
              "      <td>0</td>\n",
              "      <td>0</td>\n",
              "      <td>0</td>\n",
              "      <td>0</td>\n",
              "      <td>0</td>\n",
              "      <td>0</td>\n",
              "      <td>0</td>\n",
              "      <td>0</td>\n",
              "      <td>0</td>\n",
              "      <td>0</td>\n",
              "      <td>0</td>\n",
              "      <td>0</td>\n",
              "      <td>0</td>\n",
              "      <td>0</td>\n",
              "      <td>0</td>\n",
              "      <td>0</td>\n",
              "      <td>0</td>\n",
              "      <td>0</td>\n",
              "      <td>0</td>\n",
              "      <td>0</td>\n",
              "      <td>0</td>\n",
              "      <td>0</td>\n",
              "      <td>0</td>\n",
              "      <td>0</td>\n",
              "      <td>0</td>\n",
              "      <td>0</td>\n",
              "      <td>0</td>\n",
              "      <td>0</td>\n",
              "      <td>0.0</td>\n",
              "      <td>0</td>\n",
              "      <td>0</td>\n",
              "      <td>0.0</td>\n",
              "      <td>0</td>\n",
              "      <td>0.0</td>\n",
              "      <td>0.0</td>\n",
              "      <td>0.0</td>\n",
              "      <td>0</td>\n",
              "      <td>0</td>\n",
              "      <td>29</td>\n",
              "    </tr>\n",
              "    <tr>\n",
              "      <th>2</th>\n",
              "      <td>0</td>\n",
              "      <td>0</td>\n",
              "      <td>0</td>\n",
              "      <td>0</td>\n",
              "      <td>0</td>\n",
              "      <td>0</td>\n",
              "      <td>0</td>\n",
              "      <td>0</td>\n",
              "      <td>0</td>\n",
              "      <td>0</td>\n",
              "      <td>0</td>\n",
              "      <td>0</td>\n",
              "      <td>0</td>\n",
              "      <td>0</td>\n",
              "      <td>0</td>\n",
              "      <td>0</td>\n",
              "      <td>0</td>\n",
              "      <td>0</td>\n",
              "      <td>0</td>\n",
              "      <td>0</td>\n",
              "      <td>0</td>\n",
              "      <td>0</td>\n",
              "      <td>0</td>\n",
              "      <td>0</td>\n",
              "      <td>0</td>\n",
              "      <td>0</td>\n",
              "      <td>0</td>\n",
              "      <td>0</td>\n",
              "      <td>0</td>\n",
              "      <td>0</td>\n",
              "      <td>0</td>\n",
              "      <td>0</td>\n",
              "      <td>0</td>\n",
              "      <td>0</td>\n",
              "      <td>0</td>\n",
              "      <td>0</td>\n",
              "      <td>0</td>\n",
              "      <td>0</td>\n",
              "      <td>0</td>\n",
              "      <td>0</td>\n",
              "      <td>0</td>\n",
              "      <td>0</td>\n",
              "      <td>0</td>\n",
              "      <td>0</td>\n",
              "      <td>0</td>\n",
              "      <td>0</td>\n",
              "      <td>0</td>\n",
              "      <td>0</td>\n",
              "      <td>0</td>\n",
              "      <td>0.0</td>\n",
              "      <td>0</td>\n",
              "      <td>0</td>\n",
              "      <td>0.0</td>\n",
              "      <td>0</td>\n",
              "      <td>0.0</td>\n",
              "      <td>0.0</td>\n",
              "      <td>0.0</td>\n",
              "      <td>0</td>\n",
              "      <td>0</td>\n",
              "      <td>29</td>\n",
              "    </tr>\n",
              "    <tr>\n",
              "      <th>3</th>\n",
              "      <td>0</td>\n",
              "      <td>0</td>\n",
              "      <td>0</td>\n",
              "      <td>0</td>\n",
              "      <td>0</td>\n",
              "      <td>0</td>\n",
              "      <td>0</td>\n",
              "      <td>0</td>\n",
              "      <td>0</td>\n",
              "      <td>0</td>\n",
              "      <td>0</td>\n",
              "      <td>0</td>\n",
              "      <td>0</td>\n",
              "      <td>0</td>\n",
              "      <td>0</td>\n",
              "      <td>0</td>\n",
              "      <td>0</td>\n",
              "      <td>0</td>\n",
              "      <td>0</td>\n",
              "      <td>0</td>\n",
              "      <td>0</td>\n",
              "      <td>0</td>\n",
              "      <td>0</td>\n",
              "      <td>0</td>\n",
              "      <td>0</td>\n",
              "      <td>0</td>\n",
              "      <td>0</td>\n",
              "      <td>0</td>\n",
              "      <td>0</td>\n",
              "      <td>0</td>\n",
              "      <td>0</td>\n",
              "      <td>0</td>\n",
              "      <td>0</td>\n",
              "      <td>0</td>\n",
              "      <td>0</td>\n",
              "      <td>0</td>\n",
              "      <td>0</td>\n",
              "      <td>0</td>\n",
              "      <td>0</td>\n",
              "      <td>0</td>\n",
              "      <td>0</td>\n",
              "      <td>0</td>\n",
              "      <td>0</td>\n",
              "      <td>0</td>\n",
              "      <td>0</td>\n",
              "      <td>0</td>\n",
              "      <td>0</td>\n",
              "      <td>0</td>\n",
              "      <td>0</td>\n",
              "      <td>0.0</td>\n",
              "      <td>0</td>\n",
              "      <td>0</td>\n",
              "      <td>0.0</td>\n",
              "      <td>0</td>\n",
              "      <td>0.0</td>\n",
              "      <td>0.0</td>\n",
              "      <td>0.0</td>\n",
              "      <td>0</td>\n",
              "      <td>0</td>\n",
              "      <td>29</td>\n",
              "    </tr>\n",
              "    <tr>\n",
              "      <th>4</th>\n",
              "      <td>0</td>\n",
              "      <td>0</td>\n",
              "      <td>0</td>\n",
              "      <td>0</td>\n",
              "      <td>0</td>\n",
              "      <td>0</td>\n",
              "      <td>0</td>\n",
              "      <td>0</td>\n",
              "      <td>0</td>\n",
              "      <td>0</td>\n",
              "      <td>0</td>\n",
              "      <td>0</td>\n",
              "      <td>0</td>\n",
              "      <td>0</td>\n",
              "      <td>0</td>\n",
              "      <td>0</td>\n",
              "      <td>0</td>\n",
              "      <td>0</td>\n",
              "      <td>0</td>\n",
              "      <td>0</td>\n",
              "      <td>0</td>\n",
              "      <td>0</td>\n",
              "      <td>0</td>\n",
              "      <td>0</td>\n",
              "      <td>0</td>\n",
              "      <td>0</td>\n",
              "      <td>0</td>\n",
              "      <td>0</td>\n",
              "      <td>0</td>\n",
              "      <td>0</td>\n",
              "      <td>0</td>\n",
              "      <td>0</td>\n",
              "      <td>0</td>\n",
              "      <td>0</td>\n",
              "      <td>0</td>\n",
              "      <td>0</td>\n",
              "      <td>0</td>\n",
              "      <td>0</td>\n",
              "      <td>0</td>\n",
              "      <td>0</td>\n",
              "      <td>0</td>\n",
              "      <td>0</td>\n",
              "      <td>0</td>\n",
              "      <td>0</td>\n",
              "      <td>0</td>\n",
              "      <td>0</td>\n",
              "      <td>0</td>\n",
              "      <td>0</td>\n",
              "      <td>0</td>\n",
              "      <td>0.0</td>\n",
              "      <td>0</td>\n",
              "      <td>0</td>\n",
              "      <td>0.0</td>\n",
              "      <td>0</td>\n",
              "      <td>0.0</td>\n",
              "      <td>0.0</td>\n",
              "      <td>0.0</td>\n",
              "      <td>0</td>\n",
              "      <td>0</td>\n",
              "      <td>29</td>\n",
              "    </tr>\n",
              "  </tbody>\n",
              "</table>\n",
              "</div>"
            ],
            "text/plain": [
              "   gabor_0  gabor_1  gabor_2  gabor_3  ...  Prewitt  Median  Variance  Mask_label\n",
              "0        0        0        0        0  ...      0.0       0         0          29\n",
              "1        0        0        0        0  ...      0.0       0         0          29\n",
              "2        0        0        0        0  ...      0.0       0         0          29\n",
              "3        0        0        0        0  ...      0.0       0         0          29\n",
              "4        0        0        0        0  ...      0.0       0         0          29\n",
              "\n",
              "[5 rows x 60 columns]"
            ]
          },
          "metadata": {
            "tags": []
          },
          "execution_count": 11
        }
      ]
    },
    {
      "cell_type": "code",
      "metadata": {
        "id": "3dd82e12"
      },
      "source": [
        "X = final_dataframe.drop('Mask_label', axis = 1)\n",
        "y = final_dataframe['Mask_label']"
      ],
      "id": "3dd82e12",
      "execution_count": 12,
      "outputs": []
    },
    {
      "cell_type": "code",
      "metadata": {
        "colab": {
          "base_uri": "https://localhost:8080/"
        },
        "id": "f8df948d",
        "outputId": "efa83b16-8d11-41c6-be22-e1ea10b8c296"
      },
      "source": [
        "final_dataframe['Mask_label'].value_counts()"
      ],
      "id": "f8df948d",
      "execution_count": 13,
      "outputs": [
        {
          "output_type": "execute_result",
          "data": {
            "text/plain": [
              "29     522177\n",
              "76     437060\n",
              "150     45675\n",
              "226     14992\n",
              "Name: Mask_label, dtype: int64"
            ]
          },
          "metadata": {
            "tags": []
          },
          "execution_count": 13
        }
      ]
    },
    {
      "cell_type": "code",
      "metadata": {
        "colab": {
          "base_uri": "https://localhost:8080/",
          "height": 297
        },
        "id": "c2ad9329",
        "outputId": "a669f45d-50ce-4d76-8fa2-7e2fad18f181"
      },
      "source": [
        "sns.set_style(\"whitegrid\")\n",
        "ax = sns.countplot(x=final_dataframe['Mask_label'],linewidth=1)\n",
        "plt.title('Number of mask value present in our dataset')\n",
        "plt.xlabel('Mask_value')\n",
        "plt.ylabel('Count')\n",
        "\n",
        "ax.set_xticklabels(ax.get_xticklabels(), rotation=40, ha=\"right\")\n",
        "\n",
        "total = len(final_dataframe)\n",
        "for p in ax.patches:\n",
        "    percentage = f'{100 * p.get_height() / total:.1f}%\\n'\n",
        "    i = p.get_x() + p.get_width() / 2\n",
        "    j = p.get_height()\n",
        "    ax.annotate(percentage, (i, j), ha='center', va='center')\n",
        "plt.tight_layout()\n",
        "plt.show()"
      ],
      "id": "c2ad9329",
      "execution_count": 14,
      "outputs": [
        {
          "output_type": "display_data",
          "data": {
            "image/png": "[encoded data removed]",
            "text/plain": [
              "<Figure size 432x288 with 1 Axes>"
            ]
          },
          "metadata": {
            "tags": []
          }
        }
      ]
    },
    {
      "cell_type": "markdown",
      "metadata": {
        "id": "kXng1ITwMz73"
      },
      "source": [
        "### Split the data"
      ],
      "id": "kXng1ITwMz73"
    },
    {
      "cell_type": "code",
      "metadata": {
        "id": "997d084e"
      },
      "source": [
        "X_train, X_test, y_train, y_test = train_test_split(X, y, \n",
        "                                                    test_size=0.30, \n",
        "                                                    random_state=101)"
      ],
      "id": "997d084e",
      "execution_count": 15,
      "outputs": []
    },
    {
      "cell_type": "code",
      "metadata": {
        "colab": {
          "base_uri": "https://localhost:8080/"
        },
        "id": "53d737ea",
        "outputId": "8399a0c3-74ce-4901-c46a-0a016d2f57a0"
      },
      "source": [
        "y_train.value_counts()"
      ],
      "id": "53d737ea",
      "execution_count": 16,
      "outputs": [
        {
          "output_type": "execute_result",
          "data": {
            "text/plain": [
              "29     365465\n",
              "76     305923\n",
              "150     32029\n",
              "226     10515\n",
              "Name: Mask_label, dtype: int64"
            ]
          },
          "metadata": {
            "tags": []
          },
          "execution_count": 16
        }
      ]
    },
    {
      "cell_type": "code",
      "metadata": {
        "colab": {
          "base_uri": "https://localhost:8080/"
        },
        "id": "009d3372",
        "outputId": "347d929d-8544-4b79-db18-7010e8fb8821"
      },
      "source": [
        "y_test.value_counts()"
      ],
      "id": "009d3372",
      "execution_count": 17,
      "outputs": [
        {
          "output_type": "execute_result",
          "data": {
            "text/plain": [
              "29     156712\n",
              "76     131137\n",
              "150     13646\n",
              "226      4477\n",
              "Name: Mask_label, dtype: int64"
            ]
          },
          "metadata": {
            "tags": []
          },
          "execution_count": 17
        }
      ]
    },
    {
      "cell_type": "markdown",
      "metadata": {
        "id": "s3vPy73WNHiO"
      },
      "source": [
        "### Model import"
      ],
      "id": "s3vPy73WNHiO"
    },
    {
      "cell_type": "code",
      "metadata": {
        "id": "fb283e93"
      },
      "source": [
        "from sklearn.ensemble import RandomForestClassifier\n",
        "from sklearn.metrics import classification_report, accuracy_score, confusion_matrix"
      ],
      "id": "fb283e93",
      "execution_count": 18,
      "outputs": []
    },
    {
      "cell_type": "markdown",
      "metadata": {
        "id": "ZuBEPiGYJwWy"
      },
      "source": [
        "## Max Depth search on dataset with 1 image"
      ],
      "id": "ZuBEPiGYJwWy"
    },
    {
      "cell_type": "markdown",
      "metadata": {
        "id": "561PzqIyKArA"
      },
      "source": [
        "### Depths = [10, 15, 20, 25, None]"
      ],
      "id": "561PzqIyKArA"
    },
    {
      "cell_type": "code",
      "metadata": {
        "colab": {
          "base_uri": "https://localhost:8080/"
        },
        "id": "XR9cGLWI79yy",
        "outputId": "c2e34aa4-785c-4a5f-e6c3-9d1f2c38240b"
      },
      "source": [
        "depths = [10, 15, 20, 25, None]\n",
        "for depth in depths:\n",
        "    rf_model = RandomForestClassifier(max_depth=depth, random_state=42)\n",
        "    rf_model.fit(X_train, y_train)\n",
        "    predictions = rf_model.predict(X_test)\n",
        "    print(f\"------Depth = {depth}------\")\n",
        "    print(classification_report(y_test, predictions))"
      ],
      "id": "XR9cGLWI79yy",
      "execution_count": 19,
      "outputs": [
        {
          "output_type": "stream",
          "text": [
            "------Depth = 10------\n",
            "              precision    recall  f1-score   support\n",
            "\n",
            "          29       0.99      0.99      0.99    156712\n",
            "          76       0.98      0.99      0.99    131137\n",
            "         150       0.87      0.73      0.79     13646\n",
            "         226       0.99      0.98      0.98      4477\n",
            "\n",
            "    accuracy                           0.98    305972\n",
            "   macro avg       0.96      0.92      0.94    305972\n",
            "weighted avg       0.98      0.98      0.98    305972\n",
            "\n",
            "------Depth = 15------\n",
            "              precision    recall  f1-score   support\n",
            "\n",
            "          29       0.99      0.99      0.99    156712\n",
            "          76       0.98      0.99      0.99    131137\n",
            "         150       0.88      0.77      0.82     13646\n",
            "         226       0.99      0.98      0.99      4477\n",
            "\n",
            "    accuracy                           0.98    305972\n",
            "   macro avg       0.96      0.93      0.95    305972\n",
            "weighted avg       0.98      0.98      0.98    305972\n",
            "\n",
            "------Depth = 20------\n",
            "              precision    recall  f1-score   support\n",
            "\n",
            "          29       0.99      0.99      0.99    156712\n",
            "          76       0.98      0.99      0.99    131137\n",
            "         150       0.88      0.78      0.83     13646\n",
            "         226       0.99      0.98      0.99      4477\n",
            "\n",
            "    accuracy                           0.98    305972\n",
            "   macro avg       0.96      0.94      0.95    305972\n",
            "weighted avg       0.98      0.98      0.98    305972\n",
            "\n",
            "------Depth = 25------\n",
            "              precision    recall  f1-score   support\n",
            "\n",
            "          29       0.99      0.99      0.99    156712\n",
            "          76       0.99      0.99      0.99    131137\n",
            "         150       0.88      0.78      0.83     13646\n",
            "         226       0.99      0.99      0.99      4477\n",
            "\n",
            "    accuracy                           0.98    305972\n",
            "   macro avg       0.96      0.94      0.95    305972\n",
            "weighted avg       0.98      0.98      0.98    305972\n",
            "\n",
            "------Depth = None------\n",
            "              precision    recall  f1-score   support\n",
            "\n",
            "          29       0.99      0.99      0.99    156712\n",
            "          76       0.99      0.99      0.99    131137\n",
            "         150       0.88      0.78      0.83     13646\n",
            "         226       0.99      0.99      0.99      4477\n",
            "\n",
            "    accuracy                           0.98    305972\n",
            "   macro avg       0.96      0.94      0.95    305972\n",
            "weighted avg       0.98      0.98      0.98    305972\n",
            "\n"
          ],
          "name": "stdout"
        }
      ]
    },
    {
      "cell_type": "markdown",
      "metadata": {
        "id": "np9HM7W8LzUW"
      },
      "source": [
        "### Depths = [14, 16, 17, 18, 19]"
      ],
      "id": "np9HM7W8LzUW"
    },
    {
      "cell_type": "code",
      "metadata": {
        "id": "k_2eCGIL_Dmy",
        "colab": {
          "base_uri": "https://localhost:8080/"
        },
        "outputId": "575a04fb-d95e-4715-8187-2270959cf854"
      },
      "source": [
        "depths = [14, 16, 17, 18, 19]\n",
        "for depth in depths:\n",
        "    rf_model = RandomForestClassifier(max_depth=depth, random_state=42)\n",
        "    rf_model.fit(X_train, y_train)\n",
        "    predictions = rf_model.predict(X_test)\n",
        "    print(f\"------Depth = {depth}------\")\n",
        "    print(classification_report(y_test, predictions))"
      ],
      "id": "k_2eCGIL_Dmy",
      "execution_count": 20,
      "outputs": [
        {
          "output_type": "stream",
          "text": [
            "------Depth = 14------\n",
            "              precision    recall  f1-score   support\n",
            "\n",
            "          29       0.99      0.99      0.99    156712\n",
            "          76       0.98      0.99      0.99    131137\n",
            "         150       0.88      0.76      0.82     13646\n",
            "         226       0.99      0.98      0.98      4477\n",
            "\n",
            "    accuracy                           0.98    305972\n",
            "   macro avg       0.96      0.93      0.95    305972\n",
            "weighted avg       0.98      0.98      0.98    305972\n",
            "\n",
            "------Depth = 16------\n",
            "              precision    recall  f1-score   support\n",
            "\n",
            "          29       0.99      0.99      0.99    156712\n",
            "          76       0.98      0.99      0.99    131137\n",
            "         150       0.88      0.78      0.82     13646\n",
            "         226       0.99      0.98      0.99      4477\n",
            "\n",
            "    accuracy                           0.98    305972\n",
            "   macro avg       0.96      0.94      0.95    305972\n",
            "weighted avg       0.98      0.98      0.98    305972\n",
            "\n",
            "------Depth = 17------\n",
            "              precision    recall  f1-score   support\n",
            "\n",
            "          29       0.99      0.99      0.99    156712\n",
            "          76       0.98      0.99      0.99    131137\n",
            "         150       0.88      0.78      0.83     13646\n",
            "         226       0.99      0.98      0.99      4477\n",
            "\n",
            "    accuracy                           0.98    305972\n",
            "   macro avg       0.96      0.94      0.95    305972\n",
            "weighted avg       0.98      0.98      0.98    305972\n",
            "\n",
            "------Depth = 18------\n",
            "              precision    recall  f1-score   support\n",
            "\n",
            "          29       0.99      0.99      0.99    156712\n",
            "          76       0.98      0.99      0.99    131137\n",
            "         150       0.88      0.78      0.83     13646\n",
            "         226       0.99      0.98      0.99      4477\n",
            "\n",
            "    accuracy                           0.98    305972\n",
            "   macro avg       0.96      0.94      0.95    305972\n",
            "weighted avg       0.98      0.98      0.98    305972\n",
            "\n",
            "------Depth = 19------\n",
            "              precision    recall  f1-score   support\n",
            "\n",
            "          29       0.99      0.99      0.99    156712\n",
            "          76       0.98      0.99      0.99    131137\n",
            "         150       0.88      0.78      0.83     13646\n",
            "         226       0.99      0.98      0.98      4477\n",
            "\n",
            "    accuracy                           0.98    305972\n",
            "   macro avg       0.96      0.94      0.95    305972\n",
            "weighted avg       0.98      0.98      0.98    305972\n",
            "\n"
          ],
          "name": "stdout"
        }
      ]
    },
    {
      "cell_type": "markdown",
      "metadata": {
        "id": "noxh-up_JGWz"
      },
      "source": [
        "### Final Model trained on 5 images with max_depth = 20"
      ],
      "id": "noxh-up_JGWz"
    },
    {
      "cell_type": "code",
      "metadata": {
        "id": "fdcce44c"
      },
      "source": [
        "rf_model = RandomForestClassifier(max_depth=20, random_state=42)"
      ],
      "id": "fdcce44c",
      "execution_count": null,
      "outputs": []
    },
    {
      "cell_type": "code",
      "metadata": {
        "colab": {
          "background_save": true
        },
        "id": "a9bd68c2",
        "outputId": "496cc03e-7417-40b1-b3af-8c83bd030cb7"
      },
      "source": [
        "rf_model.fit(X_train, y_train)"
      ],
      "id": "a9bd68c2",
      "execution_count": null,
      "outputs": [
        {
          "output_type": "execute_result",
          "data": {
            "text/plain": [
              "RandomForestClassifier(bootstrap=True, ccp_alpha=0.0, class_weight=None,\n",
              "                       criterion='gini', max_depth=20, max_features='auto',\n",
              "                       max_leaf_nodes=None, max_samples=None,\n",
              "                       min_impurity_decrease=0.0, min_impurity_split=None,\n",
              "                       min_samples_leaf=1, min_samples_split=2,\n",
              "                       min_weight_fraction_leaf=0.0, n_estimators=100,\n",
              "                       n_jobs=None, oob_score=False, random_state=42, verbose=0,\n",
              "                       warm_start=False)"
            ]
          },
          "metadata": {
            "tags": []
          },
          "execution_count": 0
        }
      ]
    },
    {
      "cell_type": "code",
      "metadata": {
        "colab": {
          "base_uri": "https://localhost:8080/"
        },
        "id": "l4ph9UqK_OV6",
        "outputId": "9d7c45a4-d684-40aa-d634-3a0d3d94a1f3"
      },
      "source": [
        "max([estimator.tree_.max_depth for estimator in rf_model.estimators_])\n",
        "# default ma 44\n",
        "# max depth of the estimators"
      ],
      "id": "l4ph9UqK_OV6",
      "execution_count": null,
      "outputs": [
        {
          "output_type": "execute_result",
          "data": {
            "text/plain": [
              "20"
            ]
          },
          "metadata": {
            "tags": []
          },
          "execution_count": 23
        }
      ]
    },
    {
      "cell_type": "markdown",
      "metadata": {
        "id": "yPcsEvl7OkPM"
      },
      "source": [
        "### Classification Report"
      ],
      "id": "yPcsEvl7OkPM"
    },
    {
      "cell_type": "markdown",
      "metadata": {
        "id": "2Denep-mPx2W"
      },
      "source": [
        "#### Test Dataset"
      ],
      "id": "2Denep-mPx2W"
    },
    {
      "cell_type": "code",
      "metadata": {
        "id": "036f443f"
      },
      "source": [
        "predictions = rf_model.predict(X_test)"
      ],
      "id": "036f443f",
      "execution_count": null,
      "outputs": []
    },
    {
      "cell_type": "code",
      "metadata": {
        "colab": {
          "base_uri": "https://localhost:8080/"
        },
        "id": "73657126",
        "outputId": "06b2bd53-064e-4593-9211-c93ecfc3599e"
      },
      "source": [
        "print(classification_report(y_test, predictions))"
      ],
      "id": "73657126",
      "execution_count": null,
      "outputs": [
        {
          "output_type": "stream",
          "text": [
            "              precision    recall  f1-score   support\n",
            "\n",
            "          29       0.99      0.99      0.99    753897\n",
            "          76       0.99      0.99      0.99    705539\n",
            "         150       0.88      0.78      0.83     53203\n",
            "         226       0.99      0.98      0.98     17217\n",
            "\n",
            "    accuracy                           0.99   1529856\n",
            "   macro avg       0.96      0.94      0.95   1529856\n",
            "weighted avg       0.99      0.99      0.99   1529856\n",
            "\n"
          ],
          "name": "stdout"
        }
      ]
    },
    {
      "cell_type": "code",
      "metadata": {
        "colab": {
          "base_uri": "https://localhost:8080/"
        },
        "id": "1ec28bdd",
        "outputId": "5947c15c-7c39-43d2-a875-907dd64b314b"
      },
      "source": [
        "accuracy_score(y_test, predictions)"
      ],
      "id": "1ec28bdd",
      "execution_count": null,
      "outputs": [
        {
          "output_type": "execute_result",
          "data": {
            "text/plain": [
              "0.9858993264725568"
            ]
          },
          "metadata": {
            "tags": []
          },
          "execution_count": 25
        }
      ]
    },
    {
      "cell_type": "markdown",
      "metadata": {
        "id": "X8j5NafzQHR_"
      },
      "source": [
        "#### Train Dataset"
      ],
      "id": "X8j5NafzQHR_"
    },
    {
      "cell_type": "code",
      "metadata": {
        "id": "uLRtGyFVh_0t"
      },
      "source": [
        "predictions_train = rf_model.predict(X_train)"
      ],
      "id": "uLRtGyFVh_0t",
      "execution_count": null,
      "outputs": []
    },
    {
      "cell_type": "code",
      "metadata": {
        "colab": {
          "base_uri": "https://localhost:8080/"
        },
        "id": "QCh8uxJZh-Ci",
        "outputId": "c024a884-5875-4448-a7c2-baa4b07a0f9d"
      },
      "source": [
        "print(classification_report(y_train, predictions_train))"
      ],
      "id": "QCh8uxJZh-Ci",
      "execution_count": null,
      "outputs": [
        {
          "output_type": "stream",
          "text": [
            "              precision    recall  f1-score   support\n",
            "\n",
            "          29       1.00      1.00      1.00    754190\n",
            "          76       1.00      1.00      1.00    705192\n",
            "         150       0.98      0.95      0.97     53087\n",
            "         226       1.00      1.00      1.00     17387\n",
            "\n",
            "    accuracy                           1.00   1529856\n",
            "   macro avg       0.99      0.99      0.99   1529856\n",
            "weighted avg       1.00      1.00      1.00   1529856\n",
            "\n"
          ],
          "name": "stdout"
        }
      ]
    },
    {
      "cell_type": "markdown",
      "metadata": {
        "id": "gmgy-fVNNduv"
      },
      "source": [
        "## Confusion Matrix"
      ],
      "id": "gmgy-fVNNduv"
    },
    {
      "cell_type": "code",
      "metadata": {
        "colab": {
          "base_uri": "https://localhost:8080/"
        },
        "id": "e40fa171",
        "outputId": "040e4d99-acba-4b8e-8485-fd062d8e077f"
      },
      "source": [
        "cf_matrix = confusion_matrix(y_test, predictions)\n",
        "categories = [\"29\", \"76\", \"150\", \"226\"]\n",
        "print(cf_matrix)\n",
        "print(cf_matrix[0].sum())"
      ],
      "id": "e40fa171",
      "execution_count": null,
      "outputs": [
        {
          "output_type": "stream",
          "text": [
            "[[748577   2002   3310      8]\n",
            " [  1584 701213   2525    217]\n",
            " [  5980   5563  41660      0]\n",
            " [     0    383      0  16834]]\n",
            "753897\n"
          ],
          "name": "stdout"
        }
      ]
    },
    {
      "cell_type": "code",
      "metadata": {
        "colab": {
          "base_uri": "https://localhost:8080/"
        },
        "id": "8f1f0fbd",
        "outputId": "2f8f9168-94a6-4aa6-cc85-6dde772d4b0d"
      },
      "source": [
        "print(cf_matrix[0])"
      ],
      "id": "8f1f0fbd",
      "execution_count": null,
      "outputs": [
        {
          "output_type": "stream",
          "text": [
            "[748577   2002   3310      8]\n"
          ],
          "name": "stdout"
        }
      ]
    },
    {
      "cell_type": "code",
      "metadata": {
        "colab": {
          "base_uri": "https://localhost:8080/"
        },
        "id": "c9fe110b",
        "outputId": "edf71260-0357-4f6b-d7c9-fb951400c007"
      },
      "source": [
        "cf_matrix.astype(np.float).sum(axis=1)"
      ],
      "id": "c9fe110b",
      "execution_count": null,
      "outputs": [
        {
          "output_type": "execute_result",
          "data": {
            "text/plain": [
              "array([753897., 705539.,  53203.,  17217.])"
            ]
          },
          "metadata": {
            "tags": []
          },
          "execution_count": 28
        }
      ]
    },
    {
      "cell_type": "code",
      "metadata": {
        "colab": {
          "base_uri": "https://localhost:8080/"
        },
        "id": "95a6c97a",
        "outputId": "7985c85e-e6fc-4af2-bddd-b26e680efca7"
      },
      "source": [
        "n_cf_matrix = cf_matrix / cf_matrix.astype(np.float).sum(axis=1)\n",
        "print(np.round(n_cf_matrix, 3))"
      ],
      "id": "95a6c97a",
      "execution_count": null,
      "outputs": [
        {
          "output_type": "stream",
          "text": [
            "[[0.993 0.003 0.062 0.   ]\n",
            " [0.002 0.994 0.047 0.013]\n",
            " [0.008 0.008 0.783 0.   ]\n",
            " [0.    0.001 0.    0.978]]\n"
          ],
          "name": "stdout"
        }
      ]
    },
    {
      "cell_type": "code",
      "metadata": {
        "colab": {
          "base_uri": "https://localhost:8080/",
          "height": 265
        },
        "id": "df65f972",
        "outputId": "b1723ef1-d67e-4432-a819-84f70a2ffde8"
      },
      "source": [
        "cm = sns.heatmap(np.round(n_cf_matrix, 3), \n",
        "            annot=True,\n",
        "            xticklabels = categories,\n",
        "            yticklabels = categories)\n",
        "cm.figure.savefig(\"s_rf_confusion_matrix.png\")"
      ],
      "id": "df65f972",
      "execution_count": null,
      "outputs": [
        {
          "output_type": "display_data",
          "data": {
            "image/png": "[encoded data removed]",
            "text/plain": [
              "<Figure size 432x288 with 2 Axes>"
            ]
          },
          "metadata": {
            "tags": []
          }
        }
      ]
    },
    {
      "cell_type": "code",
      "metadata": {
        "colab": {
          "base_uri": "https://localhost:8080/",
          "height": 265
        },
        "id": "fcdd16dd",
        "outputId": "816c6a3d-f715-4e95-9e80-68a47a63b7af"
      },
      "source": [
        "ncf = sns.heatmap(cf_matrix/np.sum(cf_matrix),\n",
        "            annot=True,\n",
        "            fmt='.2%',\n",
        "            cmap='Blues',\n",
        "            xticklabels=categories,\n",
        "            yticklabels=categories)\n",
        "ncf.figure.savefig(\"s_rf_norm_cm.png\")"
      ],
      "id": "fcdd16dd",
      "execution_count": null,
      "outputs": [
        {
          "output_type": "display_data",
          "data": {
            "image/png": "[encoded data removed]",
            "text/plain": [
              "<Figure size 432x288 with 2 Axes>"
            ]
          },
          "metadata": {
            "tags": []
          }
        }
      ]
    },
    {
      "cell_type": "markdown",
      "metadata": {
        "id": "36b9470a"
      },
      "source": [
        "# Pickling the model"
      ],
      "id": "36b9470a"
    },
    {
      "cell_type": "code",
      "metadata": {
        "id": "73fe7779"
      },
      "source": [
        "import pickle"
      ],
      "id": "73fe7779",
      "execution_count": null,
      "outputs": []
    },
    {
      "cell_type": "code",
      "metadata": {
        "id": "966881fb"
      },
      "source": [
        "# Saving model to disk\n",
        "\"\"\"\n",
        "              precision    recall  f1-score   support\n",
        "\n",
        "          29       0.99      0.99      0.99    753897\n",
        "          76       0.99      0.99      0.99    705539\n",
        "         150       0.88      0.78      0.83     53203\n",
        "         226       0.99      0.98      0.98     17217\n",
        "\n",
        "    accuracy                           0.99   1529856\n",
        "   macro avg       0.96      0.94      0.95   1529856\n",
        "weighted avg       0.99      0.99      0.99   1529856\n",
        "\"\"\"\n",
        "pickle.dump(rf_model, open('./models/rf.pkl','wb'))"
      ],
      "id": "966881fb",
      "execution_count": null,
      "outputs": []
    },
    {
      "cell_type": "code",
      "metadata": {
        "id": "b4d9cef5"
      },
      "source": [
        "# Loading svm model to compare the results\n",
        "rf_loaded_model = pickle.load( open('./models/rf.pkl','rb'))"
      ],
      "id": "b4d9cef5",
      "execution_count": null,
      "outputs": []
    },
    {
      "cell_type": "code",
      "metadata": {
        "id": "5481e9e3"
      },
      "source": [
        "dummy_X = X_test.iloc[0]\n",
        "dummy_Y = y_test.iloc[0]"
      ],
      "id": "5481e9e3",
      "execution_count": null,
      "outputs": []
    },
    {
      "cell_type": "code",
      "metadata": {
        "colab": {
          "base_uri": "https://localhost:8080/"
        },
        "id": "d247eec0",
        "outputId": "fe13dda4-6921-4037-e24f-d268adcd2e1d"
      },
      "source": [
        "pred_Y = rf_loaded_model.predict([dummy_X])\n",
        "print(pred_Y)\n",
        "print(dummy_Y)"
      ],
      "id": "d247eec0",
      "execution_count": null,
      "outputs": [
        {
          "output_type": "stream",
          "text": [
            "[76]\n",
            "76\n"
          ],
          "name": "stdout"
        }
      ]
    },
    {
      "cell_type": "code",
      "metadata": {
        "colab": {
          "base_uri": "https://localhost:8080/"
        },
        "id": "NV-O9LYyDPoz",
        "outputId": "33d23435-3953-433d-910d-6a311821769d"
      },
      "source": [
        "# from google.colab import drive\n",
        "# drive.mount('/content/drive')"
      ],
      "id": "NV-O9LYyDPoz",
      "execution_count": null,
      "outputs": [
        {
          "output_type": "stream",
          "text": [
            "Mounted at /content/drive\n"
          ],
          "name": "stdout"
        }
      ]
    },
    {
      "cell_type": "code",
      "metadata": {
        "id": "jO1thX7zDTXY"
      },
      "source": [
        "# Saving model to disk\n",
        "# pickle.dump(rf_model, open('../drive/MyDrive/codes/rf.pkl','wb'))"
      ],
      "id": "jO1thX7zDTXY",
      "execution_count": null,
      "outputs": []
    }
  ]
}